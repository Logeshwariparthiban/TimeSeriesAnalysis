{
 "cells": [
  {
   "cell_type": "code",
   "execution_count": 1,
   "metadata": {},
   "outputs": [],
   "source": [
    "#!pip install yfinance"
   ]
  },
  {
   "cell_type": "code",
   "execution_count": 2,
   "metadata": {},
   "outputs": [],
   "source": [
    "#!pip install nsepy"
   ]
  },
  {
   "cell_type": "code",
   "execution_count": 3,
   "metadata": {},
   "outputs": [],
   "source": [
    "from Descriptive import Descriptive"
   ]
  },
  {
   "cell_type": "code",
   "execution_count": 4,
   "metadata": {},
   "outputs": [],
   "source": [
    "obj=Descriptive()"
   ]
  },
  {
   "cell_type": "code",
   "execution_count": 5,
   "metadata": {},
   "outputs": [
    {
     "name": "stderr",
     "output_type": "stream",
     "text": [
      "[*********************100%***********************]  1 of 1 completed\n"
     ]
    }
   ],
   "source": [
    "from nsepy import get_history as gh\n",
    "import datetime as dt\n",
    "import yfinance as yf\n",
    "stock_symbol = \"RELIANCE.NS\" #NSE stocks usually end with .NS\n",
    "# Download stock data\n",
    "stk_data = yf.download(stock_symbol, start=\"2023-01-01\", end=\"2023-07-01\")"
   ]
  },
  {
   "cell_type": "code",
   "execution_count": 6,
   "metadata": {},
   "outputs": [],
   "source": [
    "import warnings\n",
    "warnings.filterwarnings('ignore')"
   ]
  },
  {
   "cell_type": "code",
   "execution_count": 7,
   "metadata": {},
   "outputs": [
    {
     "name": "stdout",
     "output_type": "stream",
     "text": [
      "<class 'pandas.core.frame.DataFrame'>\n",
      "DatetimeIndex: 122 entries, 2023-01-02 to 2023-06-30\n",
      "Data columns (total 5 columns):\n",
      " #   Column                 Non-Null Count  Dtype  \n",
      "---  ------                 --------------  -----  \n",
      " 0   (Close, RELIANCE.NS)   122 non-null    float64\n",
      " 1   (High, RELIANCE.NS)    122 non-null    float64\n",
      " 2   (Low, RELIANCE.NS)     122 non-null    float64\n",
      " 3   (Open, RELIANCE.NS)    122 non-null    float64\n",
      " 4   (Volume, RELIANCE.NS)  122 non-null    int64  \n",
      "dtypes: float64(4), int64(1)\n",
      "memory usage: 5.7 KB\n"
     ]
    }
   ],
   "source": [
    "stk_data.info()"
   ]
  },
  {
   "cell_type": "code",
   "execution_count": 8,
   "metadata": {},
   "outputs": [
    {
     "name": "stdout",
     "output_type": "stream",
     "text": [
      "Price             Close         High          Low         Open      Volume\n",
      "Ticker      RELIANCE.NS  RELIANCE.NS  RELIANCE.NS  RELIANCE.NS RELIANCE.NS\n",
      "Date                                                                      \n",
      "2023-01-02  1180.586060  1182.006865  1167.890577  1168.715541     5316175\n",
      "2023-01-03  1171.946655  1179.256896  1167.707271  1175.613232     7658932\n",
      "2023-01-04  1154.301392  1173.780010  1152.216007  1171.923749     9264891\n",
      "2023-01-05  1152.239014  1162.482516  1147.632911  1156.570169    13637099\n",
      "2023-01-06  1162.711548  1167.776018  1154.186834  1158.013796     6349597\n"
     ]
    }
   ],
   "source": [
    "print(stk_data.head())"
   ]
  },
  {
   "cell_type": "code",
   "execution_count": 9,
   "metadata": {},
   "outputs": [
    {
     "data": {
      "text/html": [
       "<div>\n",
       "<style scoped>\n",
       "    .dataframe tbody tr th:only-of-type {\n",
       "        vertical-align: middle;\n",
       "    }\n",
       "\n",
       "    .dataframe tbody tr th {\n",
       "        vertical-align: top;\n",
       "    }\n",
       "\n",
       "    .dataframe thead tr th {\n",
       "        text-align: left;\n",
       "    }\n",
       "\n",
       "    .dataframe thead tr:last-of-type th {\n",
       "        text-align: right;\n",
       "    }\n",
       "</style>\n",
       "<table border=\"1\" class=\"dataframe\">\n",
       "  <thead>\n",
       "    <tr>\n",
       "      <th>Price</th>\n",
       "      <th>Close</th>\n",
       "      <th>High</th>\n",
       "      <th>Low</th>\n",
       "      <th>Open</th>\n",
       "      <th>Volume</th>\n",
       "    </tr>\n",
       "    <tr>\n",
       "      <th>Ticker</th>\n",
       "      <th>RELIANCE.NS</th>\n",
       "      <th>RELIANCE.NS</th>\n",
       "      <th>RELIANCE.NS</th>\n",
       "      <th>RELIANCE.NS</th>\n",
       "      <th>RELIANCE.NS</th>\n",
       "    </tr>\n",
       "    <tr>\n",
       "      <th>Date</th>\n",
       "      <th></th>\n",
       "      <th></th>\n",
       "      <th></th>\n",
       "      <th></th>\n",
       "      <th></th>\n",
       "    </tr>\n",
       "  </thead>\n",
       "  <tbody>\n",
       "    <tr>\n",
       "      <th>2023-01-02</th>\n",
       "      <td>1180.586060</td>\n",
       "      <td>1182.006865</td>\n",
       "      <td>1167.890577</td>\n",
       "      <td>1168.715541</td>\n",
       "      <td>5316175</td>\n",
       "    </tr>\n",
       "    <tr>\n",
       "      <th>2023-01-03</th>\n",
       "      <td>1171.946655</td>\n",
       "      <td>1179.256896</td>\n",
       "      <td>1167.707271</td>\n",
       "      <td>1175.613232</td>\n",
       "      <td>7658932</td>\n",
       "    </tr>\n",
       "    <tr>\n",
       "      <th>2023-01-04</th>\n",
       "      <td>1154.301392</td>\n",
       "      <td>1173.780010</td>\n",
       "      <td>1152.216007</td>\n",
       "      <td>1171.923749</td>\n",
       "      <td>9264891</td>\n",
       "    </tr>\n",
       "    <tr>\n",
       "      <th>2023-01-05</th>\n",
       "      <td>1152.239014</td>\n",
       "      <td>1162.482516</td>\n",
       "      <td>1147.632911</td>\n",
       "      <td>1156.570169</td>\n",
       "      <td>13637099</td>\n",
       "    </tr>\n",
       "    <tr>\n",
       "      <th>2023-01-06</th>\n",
       "      <td>1162.711548</td>\n",
       "      <td>1167.776018</td>\n",
       "      <td>1154.186834</td>\n",
       "      <td>1158.013796</td>\n",
       "      <td>6349597</td>\n",
       "    </tr>\n",
       "    <tr>\n",
       "      <th>...</th>\n",
       "      <td>...</td>\n",
       "      <td>...</td>\n",
       "      <td>...</td>\n",
       "      <td>...</td>\n",
       "      <td>...</td>\n",
       "    </tr>\n",
       "    <tr>\n",
       "      <th>2023-06-23</th>\n",
       "      <td>1152.559814</td>\n",
       "      <td>1161.107441</td>\n",
       "      <td>1151.299395</td>\n",
       "      <td>1159.044969</td>\n",
       "      <td>6628570</td>\n",
       "    </tr>\n",
       "    <tr>\n",
       "      <th>2023-06-26</th>\n",
       "      <td>1143.760010</td>\n",
       "      <td>1152.857653</td>\n",
       "      <td>1140.620538</td>\n",
       "      <td>1149.007778</td>\n",
       "      <td>12641159</td>\n",
       "    </tr>\n",
       "    <tr>\n",
       "      <th>2023-06-27</th>\n",
       "      <td>1144.172607</td>\n",
       "      <td>1150.153570</td>\n",
       "      <td>1139.681066</td>\n",
       "      <td>1144.218432</td>\n",
       "      <td>9689466</td>\n",
       "    </tr>\n",
       "    <tr>\n",
       "      <th>2023-06-28</th>\n",
       "      <td>1159.320068</td>\n",
       "      <td>1163.147031</td>\n",
       "      <td>1144.814149</td>\n",
       "      <td>1151.757792</td>\n",
       "      <td>11354006</td>\n",
       "    </tr>\n",
       "    <tr>\n",
       "      <th>2023-06-30</th>\n",
       "      <td>1168.830200</td>\n",
       "      <td>1171.763462</td>\n",
       "      <td>1161.130450</td>\n",
       "      <td>1167.065709</td>\n",
       "      <td>11151555</td>\n",
       "    </tr>\n",
       "  </tbody>\n",
       "</table>\n",
       "<p>122 rows × 5 columns</p>\n",
       "</div>"
      ],
      "text/plain": [
       "Price             Close         High          Low         Open      Volume\n",
       "Ticker      RELIANCE.NS  RELIANCE.NS  RELIANCE.NS  RELIANCE.NS RELIANCE.NS\n",
       "Date                                                                      \n",
       "2023-01-02  1180.586060  1182.006865  1167.890577  1168.715541     5316175\n",
       "2023-01-03  1171.946655  1179.256896  1167.707271  1175.613232     7658932\n",
       "2023-01-04  1154.301392  1173.780010  1152.216007  1171.923749     9264891\n",
       "2023-01-05  1152.239014  1162.482516  1147.632911  1156.570169    13637099\n",
       "2023-01-06  1162.711548  1167.776018  1154.186834  1158.013796     6349597\n",
       "...                 ...          ...          ...          ...         ...\n",
       "2023-06-23  1152.559814  1161.107441  1151.299395  1159.044969     6628570\n",
       "2023-06-26  1143.760010  1152.857653  1140.620538  1149.007778    12641159\n",
       "2023-06-27  1144.172607  1150.153570  1139.681066  1144.218432     9689466\n",
       "2023-06-28  1159.320068  1163.147031  1144.814149  1151.757792    11354006\n",
       "2023-06-30  1168.830200  1171.763462  1161.130450  1167.065709    11151555\n",
       "\n",
       "[122 rows x 5 columns]"
      ]
     },
     "execution_count": 9,
     "metadata": {},
     "output_type": "execute_result"
    }
   ],
   "source": [
    "stk_data"
   ]
  },
  {
   "cell_type": "code",
   "execution_count": 10,
   "metadata": {},
   "outputs": [],
   "source": [
    "low=stk_data[\"Low\"]"
   ]
  },
  {
   "cell_type": "code",
   "execution_count": 11,
   "metadata": {},
   "outputs": [
    {
     "data": {
      "text/html": [
       "<div>\n",
       "<style scoped>\n",
       "    .dataframe tbody tr th:only-of-type {\n",
       "        vertical-align: middle;\n",
       "    }\n",
       "\n",
       "    .dataframe tbody tr th {\n",
       "        vertical-align: top;\n",
       "    }\n",
       "\n",
       "    .dataframe thead th {\n",
       "        text-align: right;\n",
       "    }\n",
       "</style>\n",
       "<table border=\"1\" class=\"dataframe\">\n",
       "  <thead>\n",
       "    <tr style=\"text-align: right;\">\n",
       "      <th>Ticker</th>\n",
       "      <th>RELIANCE.NS</th>\n",
       "    </tr>\n",
       "    <tr>\n",
       "      <th>Date</th>\n",
       "      <th></th>\n",
       "    </tr>\n",
       "  </thead>\n",
       "  <tbody>\n",
       "    <tr>\n",
       "      <th>2023-01-02</th>\n",
       "      <td>1167.890577</td>\n",
       "    </tr>\n",
       "    <tr>\n",
       "      <th>2023-01-03</th>\n",
       "      <td>1167.707271</td>\n",
       "    </tr>\n",
       "    <tr>\n",
       "      <th>2023-01-04</th>\n",
       "      <td>1152.216007</td>\n",
       "    </tr>\n",
       "    <tr>\n",
       "      <th>2023-01-05</th>\n",
       "      <td>1147.632911</td>\n",
       "    </tr>\n",
       "    <tr>\n",
       "      <th>2023-01-06</th>\n",
       "      <td>1154.186834</td>\n",
       "    </tr>\n",
       "    <tr>\n",
       "      <th>...</th>\n",
       "      <td>...</td>\n",
       "    </tr>\n",
       "    <tr>\n",
       "      <th>2023-06-23</th>\n",
       "      <td>1151.299395</td>\n",
       "    </tr>\n",
       "    <tr>\n",
       "      <th>2023-06-26</th>\n",
       "      <td>1140.620538</td>\n",
       "    </tr>\n",
       "    <tr>\n",
       "      <th>2023-06-27</th>\n",
       "      <td>1139.681066</td>\n",
       "    </tr>\n",
       "    <tr>\n",
       "      <th>2023-06-28</th>\n",
       "      <td>1144.814149</td>\n",
       "    </tr>\n",
       "    <tr>\n",
       "      <th>2023-06-30</th>\n",
       "      <td>1161.130450</td>\n",
       "    </tr>\n",
       "  </tbody>\n",
       "</table>\n",
       "<p>122 rows × 1 columns</p>\n",
       "</div>"
      ],
      "text/plain": [
       "Ticker      RELIANCE.NS\n",
       "Date                   \n",
       "2023-01-02  1167.890577\n",
       "2023-01-03  1167.707271\n",
       "2023-01-04  1152.216007\n",
       "2023-01-05  1147.632911\n",
       "2023-01-06  1154.186834\n",
       "...                 ...\n",
       "2023-06-23  1151.299395\n",
       "2023-06-26  1140.620538\n",
       "2023-06-27  1139.681066\n",
       "2023-06-28  1144.814149\n",
       "2023-06-30  1161.130450\n",
       "\n",
       "[122 rows x 1 columns]"
      ]
     },
     "execution_count": 11,
     "metadata": {},
     "output_type": "execute_result"
    }
   ],
   "source": [
    "low"
   ]
  },
  {
   "cell_type": "code",
   "execution_count": 12,
   "metadata": {},
   "outputs": [
    {
     "name": "stdout",
     "output_type": "stream",
     "text": [
      "The Quantitative Data: [('Close', 'RELIANCE.NS'), ('High', 'RELIANCE.NS'), ('Low', 'RELIANCE.NS'), ('Open', 'RELIANCE.NS'), ('Volume', 'RELIANCE.NS')]\n",
      "The Qualtitative Data []\n"
     ]
    }
   ],
   "source": [
    "dataset=stk_data\n",
    "quan,qual=obj.segreQuanQual(dataset)"
   ]
  },
  {
   "cell_type": "code",
   "execution_count": 13,
   "metadata": {},
   "outputs": [],
   "source": [
    "des_data=obj.descriptive_Analysis(dataset,quan)"
   ]
  },
  {
   "cell_type": "code",
   "execution_count": 14,
   "metadata": {},
   "outputs": [
    {
     "data": {
      "text/html": [
       "<div>\n",
       "<style scoped>\n",
       "    .dataframe tbody tr th:only-of-type {\n",
       "        vertical-align: middle;\n",
       "    }\n",
       "\n",
       "    .dataframe tbody tr th {\n",
       "        vertical-align: top;\n",
       "    }\n",
       "\n",
       "    .dataframe thead th {\n",
       "        text-align: right;\n",
       "    }\n",
       "</style>\n",
       "<table border=\"1\" class=\"dataframe\">\n",
       "  <thead>\n",
       "    <tr style=\"text-align: right;\">\n",
       "      <th></th>\n",
       "      <th>(Close, RELIANCE.NS)</th>\n",
       "      <th>(High, RELIANCE.NS)</th>\n",
       "      <th>(Low, RELIANCE.NS)</th>\n",
       "      <th>(Open, RELIANCE.NS)</th>\n",
       "      <th>(Volume, RELIANCE.NS)</th>\n",
       "    </tr>\n",
       "  </thead>\n",
       "  <tbody>\n",
       "    <tr>\n",
       "      <th>Null_count</th>\n",
       "      <td>0</td>\n",
       "      <td>0</td>\n",
       "      <td>0</td>\n",
       "      <td>0</td>\n",
       "      <td>0</td>\n",
       "    </tr>\n",
       "    <tr>\n",
       "      <th>NonNull_count</th>\n",
       "      <td>122</td>\n",
       "      <td>122</td>\n",
       "      <td>122</td>\n",
       "      <td>122</td>\n",
       "      <td>122</td>\n",
       "    </tr>\n",
       "    <tr>\n",
       "      <th>Total_Count</th>\n",
       "      <td>122</td>\n",
       "      <td>122</td>\n",
       "      <td>122</td>\n",
       "      <td>122</td>\n",
       "      <td>122</td>\n",
       "    </tr>\n",
       "    <tr>\n",
       "      <th>Mean</th>\n",
       "      <td>1105.908638</td>\n",
       "      <td>1114.91331</td>\n",
       "      <td>1097.677101</td>\n",
       "      <td>1107.865519</td>\n",
       "      <td>13045123.737705</td>\n",
       "    </tr>\n",
       "    <tr>\n",
       "      <th>Median</th>\n",
       "      <td>1113.797363</td>\n",
       "      <td>1120.993045</td>\n",
       "      <td>1105.226728</td>\n",
       "      <td>1113.682856</td>\n",
       "      <td>11680332.5</td>\n",
       "    </tr>\n",
       "    <tr>\n",
       "      <th>Mode</th>\n",
       "      <td>1008.876526</td>\n",
       "      <td>1017.470038</td>\n",
       "      <td>999.137216</td>\n",
       "      <td>1015.178443</td>\n",
       "      <td>5316175</td>\n",
       "    </tr>\n",
       "    <tr>\n",
       "      <th>Std</th>\n",
       "      <td>43.154163</td>\n",
       "      <td>41.99131</td>\n",
       "      <td>43.645687</td>\n",
       "      <td>42.549922</td>\n",
       "      <td>5569096.501439</td>\n",
       "    </tr>\n",
       "    <tr>\n",
       "      <th>Min</th>\n",
       "      <td>1008.876526</td>\n",
       "      <td>1017.470038</td>\n",
       "      <td>999.137216</td>\n",
       "      <td>1015.178443</td>\n",
       "      <td>5316175.0</td>\n",
       "    </tr>\n",
       "    <tr>\n",
       "      <th>Q1:25%</th>\n",
       "      <td>1073.413635</td>\n",
       "      <td>1081.714999</td>\n",
       "      <td>1064.224296</td>\n",
       "      <td>1076.610452</td>\n",
       "      <td>9243317.25</td>\n",
       "    </tr>\n",
       "    <tr>\n",
       "      <th>Q2:50%</th>\n",
       "      <td>1113.797363</td>\n",
       "      <td>1120.993045</td>\n",
       "      <td>1105.226728</td>\n",
       "      <td>1113.682856</td>\n",
       "      <td>11680332.5</td>\n",
       "    </tr>\n",
       "    <tr>\n",
       "      <th>Q3:75%</th>\n",
       "      <td>1137.337799</td>\n",
       "      <td>1145.782463</td>\n",
       "      <td>1129.557777</td>\n",
       "      <td>1140.838368</td>\n",
       "      <td>15457766.25</td>\n",
       "    </tr>\n",
       "    <tr>\n",
       "      <th>Q4:100%</th>\n",
       "      <td>1190.164795</td>\n",
       "      <td>1194.381468</td>\n",
       "      <td>1173.39039</td>\n",
       "      <td>1194.381468</td>\n",
       "      <td>34014213.0</td>\n",
       "    </tr>\n",
       "    <tr>\n",
       "      <th>IQR</th>\n",
       "      <td>63.924164</td>\n",
       "      <td>64.067465</td>\n",
       "      <td>65.333481</td>\n",
       "      <td>64.227916</td>\n",
       "      <td>6214449.0</td>\n",
       "    </tr>\n",
       "    <tr>\n",
       "      <th>1.5Rule</th>\n",
       "      <td>95.886246</td>\n",
       "      <td>96.101197</td>\n",
       "      <td>98.000222</td>\n",
       "      <td>96.341874</td>\n",
       "      <td>9321673.5</td>\n",
       "    </tr>\n",
       "    <tr>\n",
       "      <th>Lesser</th>\n",
       "      <td>977.52739</td>\n",
       "      <td>985.613802</td>\n",
       "      <td>966.224074</td>\n",
       "      <td>980.268578</td>\n",
       "      <td>-78356.25</td>\n",
       "    </tr>\n",
       "    <tr>\n",
       "      <th>Greater</th>\n",
       "      <td>1233.224045</td>\n",
       "      <td>1241.88366</td>\n",
       "      <td>1227.557999</td>\n",
       "      <td>1237.180243</td>\n",
       "      <td>24779439.75</td>\n",
       "    </tr>\n",
       "  </tbody>\n",
       "</table>\n",
       "</div>"
      ],
      "text/plain": [
       "              (Close, RELIANCE.NS) (High, RELIANCE.NS) (Low, RELIANCE.NS)  \\\n",
       "Null_count                       0                   0                  0   \n",
       "NonNull_count                  122                 122                122   \n",
       "Total_Count                    122                 122                122   \n",
       "Mean                   1105.908638          1114.91331        1097.677101   \n",
       "Median                 1113.797363         1120.993045        1105.226728   \n",
       "Mode                   1008.876526         1017.470038         999.137216   \n",
       "Std                      43.154163            41.99131          43.645687   \n",
       "Min                    1008.876526         1017.470038         999.137216   \n",
       "Q1:25%                 1073.413635         1081.714999        1064.224296   \n",
       "Q2:50%                 1113.797363         1120.993045        1105.226728   \n",
       "Q3:75%                 1137.337799         1145.782463        1129.557777   \n",
       "Q4:100%                1190.164795         1194.381468         1173.39039   \n",
       "IQR                      63.924164           64.067465          65.333481   \n",
       "1.5Rule                  95.886246           96.101197          98.000222   \n",
       "Lesser                   977.52739          985.613802         966.224074   \n",
       "Greater                1233.224045          1241.88366        1227.557999   \n",
       "\n",
       "              (Open, RELIANCE.NS) (Volume, RELIANCE.NS)  \n",
       "Null_count                      0                     0  \n",
       "NonNull_count                 122                   122  \n",
       "Total_Count                   122                   122  \n",
       "Mean                  1107.865519       13045123.737705  \n",
       "Median                1113.682856            11680332.5  \n",
       "Mode                  1015.178443               5316175  \n",
       "Std                     42.549922        5569096.501439  \n",
       "Min                   1015.178443             5316175.0  \n",
       "Q1:25%                1076.610452            9243317.25  \n",
       "Q2:50%                1113.682856            11680332.5  \n",
       "Q3:75%                1140.838368           15457766.25  \n",
       "Q4:100%               1194.381468            34014213.0  \n",
       "IQR                     64.227916             6214449.0  \n",
       "1.5Rule                 96.341874             9321673.5  \n",
       "Lesser                 980.268578             -78356.25  \n",
       "Greater               1237.180243           24779439.75  "
      ]
     },
     "execution_count": 14,
     "metadata": {},
     "output_type": "execute_result"
    }
   ],
   "source": [
    "des_data"
   ]
  },
  {
   "cell_type": "code",
   "execution_count": 15,
   "metadata": {},
   "outputs": [
    {
     "name": "stdout",
     "output_type": "stream",
     "text": [
      "Index([ ('Close', 'RELIANCE.NS'),   ('High', 'RELIANCE.NS'),\n",
      "          ('Low', 'RELIANCE.NS'),   ('Open', 'RELIANCE.NS'),\n",
      "       ('Volume', 'RELIANCE.NS')],\n",
      "      dtype='object')\n"
     ]
    }
   ],
   "source": [
    "print(des_data.columns)"
   ]
  },
  {
   "cell_type": "code",
   "execution_count": 16,
   "metadata": {},
   "outputs": [
    {
     "data": {
      "text/plain": [
       "Null_count                 0\n",
       "NonNull_count            122\n",
       "Total_Count              122\n",
       "Mean             1097.677101\n",
       "Median           1105.226728\n",
       "Mode              999.137216\n",
       "Std                43.645687\n",
       "Min               999.137216\n",
       "Q1:25%           1064.224296\n",
       "Q2:50%           1105.226728\n",
       "Q3:75%           1129.557777\n",
       "Q4:100%           1173.39039\n",
       "IQR                65.333481\n",
       "1.5Rule            98.000222\n",
       "Lesser            966.224074\n",
       "Greater          1227.557999\n",
       "Name: (Low, RELIANCE.NS), dtype: object"
      ]
     },
     "execution_count": 16,
     "metadata": {},
     "output_type": "execute_result"
    }
   ],
   "source": [
    "des_data[('Low', 'RELIANCE.NS')]"
   ]
  },
  {
   "cell_type": "code",
   "execution_count": 17,
   "metadata": {},
   "outputs": [
    {
     "data": {
      "text/plain": [
       "Null_count                 0\n",
       "NonNull_count            122\n",
       "Total_Count              122\n",
       "Mean              1114.91331\n",
       "Median           1120.993045\n",
       "Mode             1017.470038\n",
       "Std                 41.99131\n",
       "Min              1017.470038\n",
       "Q1:25%           1081.714999\n",
       "Q2:50%           1120.993045\n",
       "Q3:75%           1145.782463\n",
       "Q4:100%          1194.381468\n",
       "IQR                64.067465\n",
       "1.5Rule            96.101197\n",
       "Lesser            985.613802\n",
       "Greater           1241.88366\n",
       "Name: (High, RELIANCE.NS), dtype: object"
      ]
     },
     "execution_count": 17,
     "metadata": {},
     "output_type": "execute_result"
    }
   ],
   "source": [
    "des_data[\"High\", 'RELIANCE.NS']"
   ]
  },
  {
   "cell_type": "code",
   "execution_count": 18,
   "metadata": {},
   "outputs": [],
   "source": [
    "import numpy as np"
   ]
  },
  {
   "cell_type": "code",
   "execution_count": 19,
   "metadata": {},
   "outputs": [
    {
     "data": {
      "text/plain": [
       "1167.8713257432016"
      ]
     },
     "execution_count": 19,
     "metadata": {},
     "output_type": "execute_result"
    }
   ],
   "source": [
    "np.percentile(dataset[\"Low\"],99)"
   ]
  },
  {
   "cell_type": "code",
   "execution_count": 20,
   "metadata": {},
   "outputs": [
    {
     "data": {
      "text/plain": [
       "1150.2819115891525"
      ]
     },
     "execution_count": 20,
     "metadata": {},
     "output_type": "execute_result"
    }
   ],
   "source": [
    "np.percentile(dataset[\"High\"],80)"
   ]
  },
  {
   "cell_type": "code",
   "execution_count": 21,
   "metadata": {},
   "outputs": [],
   "source": [
    "def get_pdf_probability(dataset,startrange,endrange):\n",
    "    from matplotlib import pyplot\n",
    "    from scipy.stats import norm\n",
    "    import seaborn as sns\n",
    "    ax = sns.distplot(dataset,kde=True,kde_kws={'color':'blue'},color='Green')\n",
    "    pyplot.axvline(startrange,color='Red')\n",
    "    pyplot.axvline(endrange,color='Red')\n",
    "    # generate a sample\n",
    "    sample = dataset\n",
    "    # calculate parameters\n",
    "    sample_mean =sample.mean()\n",
    "    sample_std = sample.std()\n",
    "    print('Mean=%.3f, Standard Deviation=%.3f' % (sample_mean, sample_std))\n",
    "    # define the distribution\n",
    "    dist = norm(sample_mean, sample_std)\n",
    "    \n",
    "    # sample probabilities for a range of outcomes\n",
    "    values = [value for value in range(startrange, endrange)]\n",
    "    probabilities = [dist.pdf(value) for value in values]    \n",
    "    prob=sum(probabilities)\n",
    "    print(\"The area between range({},{}):{}\".format(startrange,endrange,sum(probabilities)))\n",
    "    return prob\n",
    "    "
   ]
  },
  {
   "cell_type": "code",
   "execution_count": 22,
   "metadata": {},
   "outputs": [
    {
     "name": "stdout",
     "output_type": "stream",
     "text": [
      "Mean=1097.677, Standard Deviation=43.646\n",
      "The area between range(219,230):[2.37575167e-88]\n"
     ]
    },
    {
     "data": {
      "text/plain": [
       "array([2.37575167e-88])"
      ]
     },
     "execution_count": 22,
     "metadata": {},
     "output_type": "execute_result"
    },
    {
     "data": {
      "image/png": "[encoded data removed]",
      "text/plain": [
       "<Figure size 640x480 with 1 Axes>"
      ]
     },
     "metadata": {},
     "output_type": "display_data"
    }
   ],
   "source": [
    "get_pdf_probability(dataset[\"Low\"],219,230)"
   ]
  },
  {
   "cell_type": "code",
   "execution_count": 23,
   "metadata": {},
   "outputs": [],
   "source": [
    "def stdNBgraph(dataset):\n",
    "        # Coverted to standard Normal Distribution\n",
    "    import seaborn as sns\n",
    "    mean=dataset.mean()\n",
    "    std=dataset.std()\n",
    "    values = dataset.values\n",
    "\n",
    "    z_score=[((j-mean)/std) for j in values]\n",
    "\n",
    "    sns.distplot(z_score,kde=True)\n",
    "\n",
    "    # Optionally, print average Z-score for confirmation\n",
    "    print(f\"Average Z-score: {sum(z_score)/len(z_score)}\")"
   ]
  },
  {
   "cell_type": "code",
   "execution_count": 24,
   "metadata": {},
   "outputs": [
    {
     "name": "stdout",
     "output_type": "stream",
     "text": [
      "Average Z-score: Ticker\n",
      "RELIANCE.NS    3.802059e-15\n",
      "dtype: float64\n"
     ]
    },
    {
     "data": {
      "image/png": "[encoded data removed]",
      "text/plain": [
       "<Figure size 640x480 with 1 Axes>"
      ]
     },
     "metadata": {},
     "output_type": "display_data"
    }
   ],
   "source": [
    "stdNBgraph(dataset[\"Low\"])"
   ]
  },
  {
   "cell_type": "code",
   "execution_count": 25,
   "metadata": {},
   "outputs": [],
   "source": [
    "def freqTable(columnName,dataset):\n",
    "    import pandas as pd\n",
    "    frq=pd.DataFrame()\n",
    "\n",
    "    # Ensure the column is flattened to avoid MultiIndex issues\n",
    "    value_counts = dataset[columnName].value_counts().reset_index()\n",
    "    value_counts.columns = ['Unique_Values', 'Frequency']  # Rename columns\n",
    "\n",
    "    # Add Relative Frequency and Cumulative columns\n",
    "    value_counts['Relative_Fre'] = value_counts['Frequency'] / len(dataset[columnName]) * 100\n",
    "    value_counts['Cumulative'] = value_counts['Relative_Fre'].cumsum()\n",
    "\n",
    "    return value_counts"
   ]
  },
  {
   "cell_type": "code",
   "execution_count": 26,
   "metadata": {},
   "outputs": [
    {
     "data": {
      "text/html": [
       "<div>\n",
       "<style scoped>\n",
       "    .dataframe tbody tr th:only-of-type {\n",
       "        vertical-align: middle;\n",
       "    }\n",
       "\n",
       "    .dataframe tbody tr th {\n",
       "        vertical-align: top;\n",
       "    }\n",
       "\n",
       "    .dataframe thead th {\n",
       "        text-align: right;\n",
       "    }\n",
       "</style>\n",
       "<table border=\"1\" class=\"dataframe\">\n",
       "  <thead>\n",
       "    <tr style=\"text-align: right;\">\n",
       "      <th></th>\n",
       "      <th>Unique_Values</th>\n",
       "      <th>Frequency</th>\n",
       "      <th>Relative_Fre</th>\n",
       "      <th>Cumulative</th>\n",
       "    </tr>\n",
       "  </thead>\n",
       "  <tbody>\n",
       "    <tr>\n",
       "      <th>0</th>\n",
       "      <td>999.137216</td>\n",
       "      <td>1</td>\n",
       "      <td>0.819672</td>\n",
       "      <td>0.819672</td>\n",
       "    </tr>\n",
       "    <tr>\n",
       "      <th>1</th>\n",
       "      <td>1129.758285</td>\n",
       "      <td>1</td>\n",
       "      <td>0.819672</td>\n",
       "      <td>1.639344</td>\n",
       "    </tr>\n",
       "    <tr>\n",
       "      <th>2</th>\n",
       "      <td>1128.383420</td>\n",
       "      <td>1</td>\n",
       "      <td>0.819672</td>\n",
       "      <td>2.459016</td>\n",
       "    </tr>\n",
       "    <tr>\n",
       "      <th>3</th>\n",
       "      <td>1127.925030</td>\n",
       "      <td>1</td>\n",
       "      <td>0.819672</td>\n",
       "      <td>3.278689</td>\n",
       "    </tr>\n",
       "    <tr>\n",
       "      <th>4</th>\n",
       "      <td>1127.627297</td>\n",
       "      <td>1</td>\n",
       "      <td>0.819672</td>\n",
       "      <td>4.098361</td>\n",
       "    </tr>\n",
       "    <tr>\n",
       "      <th>...</th>\n",
       "      <td>...</td>\n",
       "      <td>...</td>\n",
       "      <td>...</td>\n",
       "      <td>...</td>\n",
       "    </tr>\n",
       "    <tr>\n",
       "      <th>117</th>\n",
       "      <td>1068.847705</td>\n",
       "      <td>1</td>\n",
       "      <td>0.819672</td>\n",
       "      <td>96.721311</td>\n",
       "    </tr>\n",
       "    <tr>\n",
       "      <th>118</th>\n",
       "      <td>1067.908135</td>\n",
       "      <td>1</td>\n",
       "      <td>0.819672</td>\n",
       "      <td>97.540984</td>\n",
       "    </tr>\n",
       "    <tr>\n",
       "      <th>119</th>\n",
       "      <td>1066.051859</td>\n",
       "      <td>1</td>\n",
       "      <td>0.819672</td>\n",
       "      <td>98.360656</td>\n",
       "    </tr>\n",
       "    <tr>\n",
       "      <th>120</th>\n",
       "      <td>1065.158254</td>\n",
       "      <td>1</td>\n",
       "      <td>0.819672</td>\n",
       "      <td>99.180328</td>\n",
       "    </tr>\n",
       "    <tr>\n",
       "      <th>121</th>\n",
       "      <td>1173.390390</td>\n",
       "      <td>1</td>\n",
       "      <td>0.819672</td>\n",
       "      <td>100.000000</td>\n",
       "    </tr>\n",
       "  </tbody>\n",
       "</table>\n",
       "<p>122 rows × 4 columns</p>\n",
       "</div>"
      ],
      "text/plain": [
       "     Unique_Values  Frequency  Relative_Fre  Cumulative\n",
       "0       999.137216          1      0.819672    0.819672\n",
       "1      1129.758285          1      0.819672    1.639344\n",
       "2      1128.383420          1      0.819672    2.459016\n",
       "3      1127.925030          1      0.819672    3.278689\n",
       "4      1127.627297          1      0.819672    4.098361\n",
       "..             ...        ...           ...         ...\n",
       "117    1068.847705          1      0.819672   96.721311\n",
       "118    1067.908135          1      0.819672   97.540984\n",
       "119    1066.051859          1      0.819672   98.360656\n",
       "120    1065.158254          1      0.819672   99.180328\n",
       "121    1173.390390          1      0.819672  100.000000\n",
       "\n",
       "[122 rows x 4 columns]"
      ]
     },
     "execution_count": 26,
     "metadata": {},
     "output_type": "execute_result"
    }
   ],
   "source": [
    "freqTable(\"Low\",dataset)"
   ]
  },
  {
   "cell_type": "code",
   "execution_count": 27,
   "metadata": {},
   "outputs": [
    {
     "data": {
      "text/html": [
       "<div>\n",
       "<style scoped>\n",
       "    .dataframe tbody tr th:only-of-type {\n",
       "        vertical-align: middle;\n",
       "    }\n",
       "\n",
       "    .dataframe tbody tr th {\n",
       "        vertical-align: top;\n",
       "    }\n",
       "\n",
       "    .dataframe thead th {\n",
       "        text-align: right;\n",
       "    }\n",
       "</style>\n",
       "<table border=\"1\" class=\"dataframe\">\n",
       "  <thead>\n",
       "    <tr style=\"text-align: right;\">\n",
       "      <th></th>\n",
       "      <th>Unique_Values</th>\n",
       "      <th>Frequency</th>\n",
       "      <th>Relative_Fre</th>\n",
       "      <th>Cumulative</th>\n",
       "    </tr>\n",
       "  </thead>\n",
       "  <tbody>\n",
       "    <tr>\n",
       "      <th>0</th>\n",
       "      <td>1017.470038</td>\n",
       "      <td>1</td>\n",
       "      <td>0.819672</td>\n",
       "      <td>0.819672</td>\n",
       "    </tr>\n",
       "    <tr>\n",
       "      <th>1</th>\n",
       "      <td>1145.799659</td>\n",
       "      <td>1</td>\n",
       "      <td>0.819672</td>\n",
       "      <td>1.639344</td>\n",
       "    </tr>\n",
       "    <tr>\n",
       "      <th>2</th>\n",
       "      <td>1145.616197</td>\n",
       "      <td>1</td>\n",
       "      <td>0.819672</td>\n",
       "      <td>2.459016</td>\n",
       "    </tr>\n",
       "    <tr>\n",
       "      <th>3</th>\n",
       "      <td>1141.720553</td>\n",
       "      <td>1</td>\n",
       "      <td>0.819672</td>\n",
       "      <td>3.278689</td>\n",
       "    </tr>\n",
       "    <tr>\n",
       "      <th>4</th>\n",
       "      <td>1140.849664</td>\n",
       "      <td>1</td>\n",
       "      <td>0.819672</td>\n",
       "      <td>4.098361</td>\n",
       "    </tr>\n",
       "    <tr>\n",
       "      <th>...</th>\n",
       "      <td>...</td>\n",
       "      <td>...</td>\n",
       "      <td>...</td>\n",
       "      <td>...</td>\n",
       "    </tr>\n",
       "    <tr>\n",
       "      <th>117</th>\n",
       "      <td>1087.088805</td>\n",
       "      <td>1</td>\n",
       "      <td>0.819672</td>\n",
       "      <td>96.721311</td>\n",
       "    </tr>\n",
       "    <tr>\n",
       "      <th>118</th>\n",
       "      <td>1086.607477</td>\n",
       "      <td>1</td>\n",
       "      <td>0.819672</td>\n",
       "      <td>97.540984</td>\n",
       "    </tr>\n",
       "    <tr>\n",
       "      <th>119</th>\n",
       "      <td>1085.209599</td>\n",
       "      <td>1</td>\n",
       "      <td>0.819672</td>\n",
       "      <td>98.360656</td>\n",
       "    </tr>\n",
       "    <tr>\n",
       "      <th>120</th>\n",
       "      <td>1084.843023</td>\n",
       "      <td>1</td>\n",
       "      <td>0.819672</td>\n",
       "      <td>99.180328</td>\n",
       "    </tr>\n",
       "    <tr>\n",
       "      <th>121</th>\n",
       "      <td>1194.381468</td>\n",
       "      <td>1</td>\n",
       "      <td>0.819672</td>\n",
       "      <td>100.000000</td>\n",
       "    </tr>\n",
       "  </tbody>\n",
       "</table>\n",
       "<p>122 rows × 4 columns</p>\n",
       "</div>"
      ],
      "text/plain": [
       "     Unique_Values  Frequency  Relative_Fre  Cumulative\n",
       "0      1017.470038          1      0.819672    0.819672\n",
       "1      1145.799659          1      0.819672    1.639344\n",
       "2      1145.616197          1      0.819672    2.459016\n",
       "3      1141.720553          1      0.819672    3.278689\n",
       "4      1140.849664          1      0.819672    4.098361\n",
       "..             ...        ...           ...         ...\n",
       "117    1087.088805          1      0.819672   96.721311\n",
       "118    1086.607477          1      0.819672   97.540984\n",
       "119    1085.209599          1      0.819672   98.360656\n",
       "120    1084.843023          1      0.819672   99.180328\n",
       "121    1194.381468          1      0.819672  100.000000\n",
       "\n",
       "[122 rows x 4 columns]"
      ]
     },
     "execution_count": 27,
     "metadata": {},
     "output_type": "execute_result"
    }
   ],
   "source": [
    "freqTable(\"High\",dataset)"
   ]
  },
  {
   "cell_type": "code",
   "execution_count": 28,
   "metadata": {},
   "outputs": [],
   "source": [
    "fh=freqTable(\"High\",dataset)"
   ]
  },
  {
   "cell_type": "code",
   "execution_count": 29,
   "metadata": {},
   "outputs": [
    {
     "data": {
      "text/html": [
       "<div>\n",
       "<style scoped>\n",
       "    .dataframe tbody tr th:only-of-type {\n",
       "        vertical-align: middle;\n",
       "    }\n",
       "\n",
       "    .dataframe tbody tr th {\n",
       "        vertical-align: top;\n",
       "    }\n",
       "\n",
       "    .dataframe thead th {\n",
       "        text-align: right;\n",
       "    }\n",
       "</style>\n",
       "<table border=\"1\" class=\"dataframe\">\n",
       "  <thead>\n",
       "    <tr style=\"text-align: right;\">\n",
       "      <th></th>\n",
       "      <th>Unique_Values</th>\n",
       "      <th>Frequency</th>\n",
       "      <th>Relative_Fre</th>\n",
       "      <th>Cumulative</th>\n",
       "    </tr>\n",
       "  </thead>\n",
       "  <tbody>\n",
       "    <tr>\n",
       "      <th>0</th>\n",
       "      <td>1017.470038</td>\n",
       "      <td>1</td>\n",
       "      <td>0.819672</td>\n",
       "      <td>0.819672</td>\n",
       "    </tr>\n",
       "    <tr>\n",
       "      <th>91</th>\n",
       "      <td>1081.176470</td>\n",
       "      <td>1</td>\n",
       "      <td>0.819672</td>\n",
       "      <td>75.409836</td>\n",
       "    </tr>\n",
       "    <tr>\n",
       "      <th>89</th>\n",
       "      <td>1032.113274</td>\n",
       "      <td>1</td>\n",
       "      <td>0.819672</td>\n",
       "      <td>73.770492</td>\n",
       "    </tr>\n",
       "    <tr>\n",
       "      <th>88</th>\n",
       "      <td>1033.052791</td>\n",
       "      <td>1</td>\n",
       "      <td>0.819672</td>\n",
       "      <td>72.950820</td>\n",
       "    </tr>\n",
       "    <tr>\n",
       "      <th>87</th>\n",
       "      <td>1033.052854</td>\n",
       "      <td>1</td>\n",
       "      <td>0.819672</td>\n",
       "      <td>72.131148</td>\n",
       "    </tr>\n",
       "    <tr>\n",
       "      <th>...</th>\n",
       "      <td>...</td>\n",
       "      <td>...</td>\n",
       "      <td>...</td>\n",
       "      <td>...</td>\n",
       "    </tr>\n",
       "    <tr>\n",
       "      <th>36</th>\n",
       "      <td>1182.006865</td>\n",
       "      <td>1</td>\n",
       "      <td>0.819672</td>\n",
       "      <td>30.327869</td>\n",
       "    </tr>\n",
       "    <tr>\n",
       "      <th>35</th>\n",
       "      <td>1183.565155</td>\n",
       "      <td>1</td>\n",
       "      <td>0.819672</td>\n",
       "      <td>29.508197</td>\n",
       "    </tr>\n",
       "    <tr>\n",
       "      <th>34</th>\n",
       "      <td>1184.298482</td>\n",
       "      <td>1</td>\n",
       "      <td>0.819672</td>\n",
       "      <td>28.688525</td>\n",
       "    </tr>\n",
       "    <tr>\n",
       "      <th>33</th>\n",
       "      <td>1192.548160</td>\n",
       "      <td>1</td>\n",
       "      <td>0.819672</td>\n",
       "      <td>27.868852</td>\n",
       "    </tr>\n",
       "    <tr>\n",
       "      <th>121</th>\n",
       "      <td>1194.381468</td>\n",
       "      <td>1</td>\n",
       "      <td>0.819672</td>\n",
       "      <td>100.000000</td>\n",
       "    </tr>\n",
       "  </tbody>\n",
       "</table>\n",
       "<p>122 rows × 4 columns</p>\n",
       "</div>"
      ],
      "text/plain": [
       "     Unique_Values  Frequency  Relative_Fre  Cumulative\n",
       "0      1017.470038          1      0.819672    0.819672\n",
       "91     1081.176470          1      0.819672   75.409836\n",
       "89     1032.113274          1      0.819672   73.770492\n",
       "88     1033.052791          1      0.819672   72.950820\n",
       "87     1033.052854          1      0.819672   72.131148\n",
       "..             ...        ...           ...         ...\n",
       "36     1182.006865          1      0.819672   30.327869\n",
       "35     1183.565155          1      0.819672   29.508197\n",
       "34     1184.298482          1      0.819672   28.688525\n",
       "33     1192.548160          1      0.819672   27.868852\n",
       "121    1194.381468          1      0.819672  100.000000\n",
       "\n",
       "[122 rows x 4 columns]"
      ]
     },
     "execution_count": 29,
     "metadata": {},
     "output_type": "execute_result"
    }
   ],
   "source": [
    "fh.sort_values(by=\"Frequency\",ascending=False)"
   ]
  },
  {
   "cell_type": "code",
   "execution_count": 30,
   "metadata": {},
   "outputs": [],
   "source": [
    "fhs=fh[fh[\"Frequency\"]==2][\"Unique_Values\"].sort_values(ascending=False)"
   ]
  },
  {
   "cell_type": "code",
   "execution_count": 31,
   "metadata": {},
   "outputs": [
    {
     "data": {
      "text/plain": [
       "Series([], Name: Unique_Values, dtype: float64)"
      ]
     },
     "execution_count": 31,
     "metadata": {},
     "output_type": "execute_result"
    }
   ],
   "source": [
    "fhs"
   ]
  },
  {
   "cell_type": "code",
   "execution_count": null,
   "metadata": {},
   "outputs": [],
   "source": []
  }
 ],
 "metadata": {
  "kernelspec": {
   "display_name": "Python 3 (ipykernel)",
   "language": "python",
   "name": "python3"
  },
  "language_info": {
   "codemirror_mode": {
    "name": "ipython",
    "version": 3
   },
   "file_extension": ".py",
   "mimetype": "text/x-python",
   "name": "python",
   "nbconvert_exporter": "python",
   "pygments_lexer": "ipython3",
   "version": "3.12.4"
  }
 },
 "nbformat": 4,
 "nbformat_minor": 4
}
